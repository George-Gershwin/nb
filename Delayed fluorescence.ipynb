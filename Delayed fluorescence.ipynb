{
 "cells": [
  {
   "cell_type": "markdown",
   "metadata": {},
   "source": [
    "# Photosensitization of CP1 by Xan, Delayed fluorescence\n",
    "\n",
    "\n",
    "Beer–Lambert law\n",
    "\n",
    "$$A(\\lambda) = \\varepsilon(\\lambda)cl = -\\log T(\\lambda) =  -\\log{\\frac{I(\\lambda)}{I_0(\\lambda)}}$$\n",
    "\n",
    "where $A(\\lambda)$ is absorbance at wavelength $\\lambda$, $\\varepsilon(\\lambda)$ is molar absorption coefficient of compound at wavelenth $\\lambda$, $c$ is the concentration of that compound, $l$ is the length of cuvette, $T$ is a transmitance (the part of transmitted light), $I$ is intensity of transmitted light and $I_0$ is intensity of incident light. Beer–Lambert law is additive, so for $n$ absorbing species in the same measured solution, resulting absorbance will be\n",
    "\n",
    "$$A(\\lambda) = l\\sum_{i=1}^n c_i\\varepsilon_i(\\lambda)$$\n",
    "\n",
    "For time dependent measurement, where concentrations of species change in time, absorbance becomes dependent on time\n",
    "\n",
    "$$A(\\lambda, t) = l\\sum_{i=1}^n c_i(t)\\varepsilon_i(\\lambda)$$\n",
    "\n",
    "From transient measurement (or any spectroscopic kinetic measurement), we usually obtain a matrix $\\overset{t\\ \\times\\ w}{\\mathbf{A}}$, where $t$ is number of measured times and $w$ is number of measured wavelengths. We can look at $\\mathbf A$ as a column vector of dimension $t$. Then, it represents measured spectra for different times, thus, time evolution.\n"
   ]
  },
  {
   "cell_type": "code",
   "execution_count": 56,
   "metadata": {},
   "outputs": [],
   "source": [
    "import matplotlib.pyplot as plt\n",
    "import numpy as np\n",
    "import ipywidgets as widgets\n",
    "from scipy.integrate import odeint\n",
    "\n",
    "%matplotlib inline"
   ]
  },
  {
   "cell_type": "code",
   "execution_count": 80,
   "metadata": {
    "scrolled": false
   },
   "outputs": [
    {
     "data": {
      "application/vnd.jupyter.widget-view+json": {
       "model_id": "ce2e1bf30d1f427cbfa38e2d19cf7e7c",
       "version_major": 2,
       "version_minor": 0
      },
      "text/plain": [
       "interactive(children=(FloatSlider(value=1.0, description='k0', max=2.0, step=0.2), FloatSlider(value=14.5, des…"
      ]
     },
     "metadata": {},
     "output_type": "display_data"
    }
   ],
   "source": [
    "times = np.linspace(0,2,500)\n",
    "\n",
    "@widgets.interact(k0=(0, 2, 0.2), k1=(0.5, 30, 2), kd=(0.5, 10, 1),\n",
    "                  kTT_DA=(0, 1, 0.1), kTT_AA=(0, 1, 0.1), k_delay=(1, 100, 2), No_Delay=True)\n",
    "def plot_func(k0, k1, kd, kTT_DA, kTT_AA, k_delay, No_Delay):\n",
    "  \n",
    "    def solve(conc, t):\n",
    "        cA, cB, cC = conc\n",
    "\n",
    "        dcA_dt = -(k0 + k1) * cA\n",
    "        dcB_dt = + k1 * cA - kd * cB\n",
    "        dcC_dt = + kTT_DA * cA * cB + kTT_AA * cB ** 2 - k_delay * cC\n",
    "\n",
    "        return [dcA_dt, dcB_dt, dcC_dt]\n",
    "    \n",
    "    result = odeint(solve, [1, 0, 0], times)\n",
    "    \n",
    "    A = result[:, 0]\n",
    "    B = result[:, 1]\n",
    "    C = result[:, 2] if not No_Delay else kTT_DA * A * B + kTT_AA * B ** 2\n",
    "    C = C / np.max(C) * 0.3  # normalize delay fluorescence curve to value 0.3\n",
    "    \n",
    "    fig, ax = plt.subplots()\n",
    "    ax.set_xlim(-0.02, 2)\n",
    "    ax.set_ylim(-0.02, 1.02)\n",
    "    ax.set_ylabel('$c/c_0$')\n",
    "    ax.set_xlabel('Time')\n",
    "    \n",
    "    plt.rcParams['figure.figsize'] = [15, 8]\n",
    "    \n",
    "    ax.plot(times, A , color='r', label='$^3Xan$')\n",
    "    ax.plot(times, B , color='b', label='$^3DR1$')\n",
    "    ax.plot(times, C , color='black', ls=':', lw=3, label='Delayed fluorescence-norm.')\n",
    "    \n",
    "    ax.legend()"
   ]
  },
  {
   "cell_type": "code",
   "execution_count": null,
   "metadata": {},
   "outputs": [],
   "source": []
  }
 ],
 "metadata": {
  "kernelspec": {
   "display_name": "Python 3",
   "language": "python",
   "name": "python3"
  },
  "language_info": {
   "codemirror_mode": {
    "name": "ipython",
    "version": 3
   },
   "file_extension": ".py",
   "mimetype": "text/x-python",
   "name": "python",
   "nbconvert_exporter": "python",
   "pygments_lexer": "ipython3",
   "version": "3.7.2"
  }
 },
 "nbformat": 4,
 "nbformat_minor": 2
}
